{
 "cells": [
  {
   "cell_type": "code",
   "execution_count": null,
   "id": "b1655c2c",
   "metadata": {},
   "outputs": [],
   "source": [
    "import os\n",
    "import tqdm\n",
    "import glob \n",
    "import random\n",
    "import shutil"
   ]
  },
  {
   "cell_type": "code",
   "execution_count": null,
   "id": "7812317f",
   "metadata": {},
   "outputs": [],
   "source": [
    "thermal_dataset = \"D:/DOWNLOAD/Frame_Pairs/254p_Thermal_Images\"\n",
    "thermal = 'D:/FIRE/THERMAL'\n",
    "rgb_dataset = 'D:/DOWNLOAD/Frame_Pairs/254p_RGB_Images'\n",
    "rgb = 'D:/FIRE/RGB'\n"
   ]
  },
  {
   "cell_type": "code",
   "execution_count": null,
   "id": "092bdc47",
   "metadata": {},
   "outputs": [],
   "source": [
    "a = os.listdir(thermal_dataset)"
   ]
  },
  {
   "cell_type": "code",
   "execution_count": null,
   "id": "5eb822e5",
   "metadata": {
    "scrolled": false
   },
   "outputs": [],
   "source": [
    "numbers=[]\n",
    "for i in range(len(a)):\n",
    "    s = a[i][20:]\n",
    "    s1 = s[:-5]\n",
    "    \n",
    "    numbers.append(int(s1))\n",
    "numbers.sort()"
   ]
  },
  {
   "cell_type": "code",
   "execution_count": null,
   "id": "f6a758ba",
   "metadata": {},
   "outputs": [],
   "source": [
    "fname = a[0][:20]\n",
    "fname"
   ]
  },
  {
   "cell_type": "code",
   "execution_count": null,
   "id": "470b4309",
   "metadata": {},
   "outputs": [],
   "source": [
    "ename = a[0][-5:]\n",
    "ename"
   ]
  },
  {
   "cell_type": "code",
   "execution_count": null,
   "id": "b08195d8",
   "metadata": {},
   "outputs": [],
   "source": [
    "# Creating rgb_set directory\n",
    "try:\n",
    "    os.mkdir(rgb)\n",
    "    print(\"Folder {} created...\".format(rgb))\n",
    "except:\n",
    "    print(\"A folder {} already exists...\".format(rgb))"
   ]
  },
  {
   "cell_type": "code",
   "execution_count": null,
   "id": "25fce50c",
   "metadata": {},
   "outputs": [],
   "source": [
    "# Creating thermal_set directory\n",
    "try:\n",
    "    os.mkdir(thermal)\n",
    "    print(\"Folder {} created...\".format(thermal))\n",
    "except:\n",
    "    print(\"A folder {} already exists...\".format(thermal))"
   ]
  },
  {
   "cell_type": "code",
   "execution_count": null,
   "id": "fd23b9c7",
   "metadata": {},
   "outputs": [],
   "source": [
    "thermal_nf_ns = 'D:/FIRE/THERMAL/no_fire_no_smoke'\n",
    "thermal_f_ns = 'D:/FIRE/THERMAL/fire_no_smoke'\n",
    "thermal_f_s = 'D:/FIRE/THERMAL/both_fire_and_smoke'\n",
    "\n",
    "# Creating thermal_set directory\n",
    "try:\n",
    "    os.mkdir(thermal_nf_ns)\n",
    "    print(\"Folder {} created...\".format(thermal_nf_ns))\n",
    "except:\n",
    "    print(\"A folder {} already exists...\".format(thermal_nf_ns))\n",
    "    \n",
    "# Creating thermal_set directory\n",
    "try:\n",
    "    os.mkdir(thermal_f_ns)\n",
    "    print(\"Folder {} created...\".format(thermal_f_ns))\n",
    "except:\n",
    "    print(\"A folder {} already exists...\".format(thermal_f_ns))\n",
    "    \n",
    "# Creating thermal_set directory\n",
    "try:\n",
    "    os.mkdir(thermal_f_s)\n",
    "    print(\"Folder {} created...\".format(thermal_f_s))\n",
    "except:\n",
    "    print(\"A folder {} already exists...\".format(thermal_f_s))"
   ]
  },
  {
   "cell_type": "code",
   "execution_count": null,
   "id": "925afebc",
   "metadata": {},
   "outputs": [],
   "source": [
    "for i in range(1,13701):\n",
    "    \n",
    "    old = thermal_dataset+'/'+fname+str(i)+ename\n",
    "    print(old)\n",
    "    new = thermal_nf_ns+'/'+fname+str(i)+ename\n",
    "    dest = shutil.copy(old, new)"
   ]
  },
  {
   "cell_type": "code",
   "execution_count": null,
   "id": "a20ab433",
   "metadata": {},
   "outputs": [],
   "source": [
    "index_yy = [[13701,14700],[15981,19803],[19900,27184],[27515,31295],[31510,33598],[33930,36551],[38031,38154],[41642,45280],[51207,52287]]"
   ]
  },
  {
   "cell_type": "code",
   "execution_count": null,
   "id": "053ae058",
   "metadata": {},
   "outputs": [],
   "source": [
    "index_yn = [[14700,15981],[19803,19900],[27184,27515],[31295,31510],[33598,33930],[36551,38031],[38154,41642],[45280,51207],[52287,53452]]"
   ]
  },
  {
   "cell_type": "code",
   "execution_count": null,
   "id": "71361f9a",
   "metadata": {},
   "outputs": [],
   "source": [
    "for j in range(len(index_yy)):\n",
    "    for i in range(index_yy[j][0],index_yy[j][1]):\n",
    "    \n",
    "        old = thermal_dataset+'/'+fname+str(i)+ename\n",
    "        print(old)\n",
    "        new = thermal_f_s+'/'+fname+str(i)+ename\n",
    "        dest = shutil.copy(old, new)"
   ]
  },
  {
   "cell_type": "code",
   "execution_count": null,
   "id": "fa405530",
   "metadata": {},
   "outputs": [],
   "source": [
    "for j in range(len(index_yn)):\n",
    "    for i in range(index_yn[j][0],index_yn[j][1]):\n",
    "    \n",
    "        old = thermal_dataset+'/'+fname+str(i)+ename\n",
    "        print(old)\n",
    "        new = thermal_f_ns+'/'+fname+str(i)+ename\n",
    "        dest = shutil.copy(old, new)"
   ]
  },
  {
   "cell_type": "code",
   "execution_count": null,
   "id": "e439464b",
   "metadata": {
    "scrolled": true
   },
   "outputs": [],
   "source": [
    "rgb_nf_ns = 'D:/FIRE/RGB/no_fire_no_smoke'\n",
    "rgb_f_ns = 'D:/FIRE/RGB/fire_no_smoke'\n",
    "rgb_f_s = 'D:/FIRE/RGB/both_fire_and_smoke'\n",
    "\n",
    "# Creating thermal_set directory\n",
    "try:\n",
    "    os.mkdir(rgb_nf_ns)\n",
    "    print(\"Folder {} created...\".format(rgb_nf_ns))\n",
    "except:\n",
    "    print(\"A folder {} already exists...\".format(rgb_nf_ns))\n",
    "    \n",
    "# Creating thermal_set directory\n",
    "try:\n",
    "    os.mkdir(rgb_f_ns)\n",
    "    print(\"Folder {} created...\".format(rgb_f_ns))\n",
    "except:\n",
    "    print(\"A folder {} already exists...\".format(rgb_f_ns))\n",
    "    \n",
    "# Creating thermal_set directory\n",
    "try:\n",
    "    os.mkdir(rgb_f_s)\n",
    "    print(\"Folder {} created...\".format(rgb_f_s))\n",
    "except:\n",
    "    print(\"A folder {} already exists...\".format(rgb_f_s))"
   ]
  },
  {
   "cell_type": "code",
   "execution_count": null,
   "id": "416df49d",
   "metadata": {},
   "outputs": [],
   "source": [
    "for i in range(1,13701):\n",
    "    \n",
    "    old = rgb_dataset+'/'+fname+str(i)+ename\n",
    "    print(old)\n",
    "    new = rgb_nf_ns+'/'+fname+str(i)+ename\n",
    "    dest = shutil.copy(old, new)"
   ]
  },
  {
   "cell_type": "code",
   "execution_count": null,
   "id": "3a2f57dc",
   "metadata": {},
   "outputs": [],
   "source": [
    "for j in range(len(index_yy)):\n",
    "    for i in range(index_yy[j][0],index_yy[j][1]):\n",
    "    \n",
    "        old = rgb_dataset+'/'+fname+str(i)+ename\n",
    "        print(old)\n",
    "        new = rgb_f_s+'/'+fname+str(i)+ename\n",
    "        dest = shutil.copy(old, new)"
   ]
  },
  {
   "cell_type": "code",
   "execution_count": null,
   "id": "19742af7",
   "metadata": {},
   "outputs": [],
   "source": [
    "for j in range(len(index_yn)):\n",
    "    for i in range(index_yn[j][0],index_yn[j][1]):\n",
    "    \n",
    "        old = rgb_dataset+'/'+fname+str(i)+ename\n",
    "        print(old)\n",
    "        new = rgb_f_ns+'/'+fname+str(i)+ename\n",
    "        dest = shutil.copy(old, new)"
   ]
  },
  {
   "cell_type": "code",
   "execution_count": null,
   "id": "e1b347af",
   "metadata": {},
   "outputs": [],
   "source": [
    "test_path = 'D:/FIRE/DATA_RGB/TEST/'\n",
    "train_path = 'D:/FIRE/DATA_RGB/TRAINING/'\n",
    "data = 'D:/FIRE/DATA_RGB/'\n",
    "\n",
    "try:\n",
    "    os.mkdir(data)\n",
    "    print(\"Folder {} created...\".format(data))\n",
    "except:\n",
    "    print(\"A folder {} already exists...\".format(data))\n",
    "\n",
    "try:\n",
    "    os.mkdir(test_path)\n",
    "    print(\"Folder {} created...\".format(test_path))\n",
    "except:\n",
    "    print(\"A folder {} already exists...\".format(test_path))\n",
    "    \n",
    "try:\n",
    "    os.mkdir(train_path)\n",
    "    print(\"Folder {} created...\".format(train_path))\n",
    "except:\n",
    "    print(\"A folder {} already exists...\".format(train_path))"
   ]
  },
  {
   "cell_type": "code",
   "execution_count": null,
   "id": "33fe9a10",
   "metadata": {},
   "outputs": [],
   "source": [
    "test_path = 'D:/FIRE/DATA_THERMAL/TEST/'\n",
    "train_path = 'D:/FIRE/DATA_THERMAL/TRAINING/'\n",
    "data = 'D:/FIRE/DATA_THERMAL/'\n",
    "\n",
    "try:\n",
    "    os.mkdir(data)\n",
    "    print(\"Folder {} created...\".format(data))\n",
    "except:\n",
    "    print(\"A folder {} already exists...\".format(data))\n",
    "\n",
    "try:\n",
    "    os.mkdir(test_path)\n",
    "    print(\"Folder {} created...\".format(test_path))\n",
    "except:\n",
    "    print(\"A folder {} already exists...\".format(test_path))\n",
    "    \n",
    "try:\n",
    "    os.mkdir(train_path)\n",
    "    print(\"Folder {} created...\".format(train_path))\n",
    "except:\n",
    "    print(\"A folder {} already exists...\".format(train_path))"
   ]
  },
  {
   "cell_type": "code",
   "execution_count": null,
   "id": "9a89ddd2",
   "metadata": {},
   "outputs": [],
   "source": [
    "catagory = os.listdir('D:/FIRE/RGB')\n",
    "catagory"
   ]
  },
  {
   "cell_type": "code",
   "execution_count": null,
   "id": "afb5d1e3",
   "metadata": {},
   "outputs": [],
   "source": [
    "for i in catagory:\n",
    "    try:\n",
    "        os.mkdir(test_path+i)\n",
    "        print(\"Folder {} created...\".format(test_path+i))\n",
    "    except:\n",
    "        print(\"A folder {} already exists...\".format(test_path+i))"
   ]
  },
  {
   "cell_type": "code",
   "execution_count": null,
   "id": "eabd17da",
   "metadata": {},
   "outputs": [],
   "source": [
    "for i in catagory:\n",
    "    try:\n",
    "        os.mkdir(train_path+i)\n",
    "        print(\"Folder {} created...\".format(train_path+i))\n",
    "    except:\n",
    "        print(\"A folder {} already exists...\".format(train_path+i))"
   ]
  },
  {
   "cell_type": "code",
   "execution_count": null,
   "id": "c3eea97c",
   "metadata": {},
   "outputs": [],
   "source": [
    "path1='D:/FIRE/THERMAL/both_fire_and_smoke'\n",
    "path2='D:/FIRE/THERMAL/no_fire_no_smoke'\n",
    "path3='D:/FIRE/THERMAL/fire_no_smoke'\n",
    "yy_thermal = os.listdir(path1)\n",
    "nn_thermal = os.listdir(path2)\n",
    "yn_thermal = os.listdir(path3)\n",
    "no_yy_thermal = len(yy_thermal)\n",
    "no_nn_thermal = len(nn_thermal)\n",
    "no_yn_thermal = len(yn_thermal)"
   ]
  },
  {
   "cell_type": "code",
   "execution_count": null,
   "id": "c5e89da1",
   "metadata": {},
   "outputs": [],
   "source": [
    "no_yy_thermal"
   ]
  },
  {
   "cell_type": "code",
   "execution_count": null,
   "id": "fc80411b",
   "metadata": {},
   "outputs": [],
   "source": [
    "no_nn_thermal"
   ]
  },
  {
   "cell_type": "code",
   "execution_count": null,
   "id": "46d34a3e",
   "metadata": {},
   "outputs": [],
   "source": [
    "no_yn_thermal"
   ]
  },
  {
   "cell_type": "code",
   "execution_count": null,
   "id": "335e8d19",
   "metadata": {},
   "outputs": [],
   "source": [
    "dest='D:/FIRE/DATA_THERMAL/TRAINING/fire_no_smoke'\n",
    "for file_name in random.sample(yn_thermal, 12500):\n",
    "    shutil.move(os.path.join(path3, file_name), dest)"
   ]
  },
  {
   "cell_type": "code",
   "execution_count": null,
   "id": "e7bca561",
   "metadata": {},
   "outputs": [],
   "source": [
    "dest='D:/FIRE/DATA_THERMAL/TRAINING/no_fire_no_smoke'\n",
    "for file_name in random.sample(nn_thermal, 12500):\n",
    "    shutil.move(os.path.join(path2, file_name), dest)"
   ]
  },
  {
   "cell_type": "code",
   "execution_count": null,
   "id": "ebbf8ce0",
   "metadata": {},
   "outputs": [],
   "source": [
    "dest='D:/FIRE/DATA_THERMAL/TRAINING/both_fire_and_smoke'\n",
    "for file_name in random.sample(yy_thermal, 12500):\n",
    "    shutil.move(os.path.join(path1, file_name), dest)"
   ]
  },
  {
   "cell_type": "code",
   "execution_count": null,
   "id": "c2700176",
   "metadata": {},
   "outputs": [],
   "source": [
    "path1='D:/FIRE/DATA_THERMAL/TRAINING/fire_no_smoke'\n",
    "path2='D:/FIRE/DATA_THERMAL/TRAINING/no_fire_no_smoke'\n",
    "path3='D:/FIRE/DATA_THERMAL/TRAINING/both_fire_and_smoke'\n",
    "\n",
    "yy_thermal = os.listdir(path3)\n",
    "nn_thermal = os.listdir(path2)\n",
    "yn_thermal = os.listdir(path1)\n",
    "no_yy_thermal = len(yy_thermal)\n",
    "no_nn_thermal = len(nn_thermal)\n",
    "no_yn_thermal = len(yn_thermal)"
   ]
  },
  {
   "cell_type": "code",
   "execution_count": null,
   "id": "0860220e",
   "metadata": {},
   "outputs": [],
   "source": [
    "dest='D:/FIRE/DATA_THERMAL/TEST/fire_no_smoke'\n",
    "for file_name in random.sample(yn_thermal, 500):\n",
    "    shutil.move(os.path.join(path1, file_name), dest)\n",
    "dest='D:/FIRE/DATA_THERMAL/TEST/no_fire_no_smoke'\n",
    "for file_name in random.sample(nn_thermal, 500):\n",
    "    shutil.move(os.path.join(path2, file_name), dest)\n",
    "dest='D:/FIRE/DATA_THERMAL/TEST/both_fire_and_smoke'\n",
    "for file_name in random.sample(yy_thermal, 500):\n",
    "    shutil.move(os.path.join(path3, file_name), dest)"
   ]
  },
  {
   "cell_type": "code",
   "execution_count": null,
   "id": "122bd802",
   "metadata": {},
   "outputs": [],
   "source": [
    "path1='D:/FIRE/RGB/both_fire_and_smoke'\n",
    "path2='D:/FIRE/RGB/no_fire_no_smoke'\n",
    "path3='D:/FIRE/RGB/fire_no_smoke'\n",
    "yy_rgb = os.listdir(path1)\n",
    "nn_rgb = os.listdir(path2)\n",
    "yn_rgb = os.listdir(path3)\n",
    "no_yy_rgb = len(yy_rgb)\n",
    "no_nn_rgb = len(nn_rgb)\n",
    "no_yn_rgb = len(yn_rgb)"
   ]
  },
  {
   "cell_type": "code",
   "execution_count": null,
   "id": "10e80871",
   "metadata": {},
   "outputs": [],
   "source": [
    "no_yy_rgb"
   ]
  },
  {
   "cell_type": "code",
   "execution_count": null,
   "id": "8b78196e",
   "metadata": {},
   "outputs": [],
   "source": [
    "no_nn_rgb"
   ]
  },
  {
   "cell_type": "code",
   "execution_count": null,
   "id": "54fc71e9",
   "metadata": {},
   "outputs": [],
   "source": [
    "no_yn_rgb"
   ]
  },
  {
   "cell_type": "code",
   "execution_count": null,
   "id": "ee65900c",
   "metadata": {},
   "outputs": [],
   "source": [
    "dest='D:/FIRE/DATA_RGB/TRAINING/fire_no_smoke'\n",
    "for file_name in random.sample(yn_rgb, 12500):\n",
    "    shutil.move(os.path.join(path3, file_name), dest)"
   ]
  },
  {
   "cell_type": "code",
   "execution_count": null,
   "id": "410a563d",
   "metadata": {},
   "outputs": [],
   "source": [
    "dest='D:/FIRE/DATA_RGB/TRAINING/no_fire_no_smoke'\n",
    "for file_name in random.sample(nn_rgb, 12500):\n",
    "    shutil.move(os.path.join(path2, file_name), dest)"
   ]
  },
  {
   "cell_type": "code",
   "execution_count": null,
   "id": "3379370c",
   "metadata": {},
   "outputs": [],
   "source": [
    "dest='D:/FIRE/DATA_RGB/TRAINING/both_fire_and_smoke'\n",
    "for file_name in random.sample(yy_rgb, 12500):\n",
    "    shutil.move(os.path.join(path1, file_name), dest)"
   ]
  },
  {
   "cell_type": "code",
   "execution_count": null,
   "id": "1c622d42",
   "metadata": {},
   "outputs": [],
   "source": [
    "path1='D:/FIRE/DATA_RGB/TRAINING/fire_no_smoke'\n",
    "path2='D:/FIRE/DATA_RGB/TRAINING/no_fire_no_smoke'\n",
    "path3='D:/FIRE/DATA_RGB/TRAINING/both_fire_and_smoke'\n",
    "\n",
    "yy_rgb = os.listdir(path3)\n",
    "nn_rgb = os.listdir(path2)\n",
    "yn_rgb = os.listdir(path1)\n",
    "no_yy_rgb = len(yy_rgb)\n",
    "no_nn_rgb = len(nn_rgb)\n",
    "no_yn_rgb = len(yn_rgb)"
   ]
  },
  {
   "cell_type": "code",
   "execution_count": null,
   "id": "827706f2",
   "metadata": {},
   "outputs": [],
   "source": [
    "dest='D:/FIRE/DATA_RGB/TEST/fire_no_smoke'\n",
    "for file_name in random.sample(yn_rgb, 500):\n",
    "    shutil.move(os.path.join(path1, file_name), dest)\n",
    "dest='D:/FIRE/DATA_RGB/TEST/no_fire_no_smoke'\n",
    "for file_name in random.sample(nn_rgb, 500):\n",
    "    shutil.move(os.path.join(path2, file_name), dest)\n",
    "dest='D:/FIRE/DATA_RGB/TEST/both_fire_and_smoke'\n",
    "for file_name in random.sample(yy_rgb, 500):\n",
    "    shutil.move(os.path.join(path3, file_name), dest)"
   ]
  }
 ],
 "metadata": {
  "kernelspec": {
   "display_name": "Python 3 (ipykernel)",
   "language": "python",
   "name": "python3"
  },
  "language_info": {
   "codemirror_mode": {
    "name": "ipython",
    "version": 3
   },
   "file_extension": ".py",
   "mimetype": "text/x-python",
   "name": "python",
   "nbconvert_exporter": "python",
   "pygments_lexer": "ipython3",
   "version": "3.9.7"
  }
 },
 "nbformat": 4,
 "nbformat_minor": 5
}
